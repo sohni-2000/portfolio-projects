{
  "nbformat": 4,
  "nbformat_minor": 0,
  "metadata": {
    "colab": {
      "provenance": []
    },
    "kernelspec": {
      "name": "python3",
      "display_name": "Python 3"
    },
    "language_info": {
      "name": "python"
    }
  },
  "cells": [
    {
      "cell_type": "code",
      "execution_count": 3,
      "metadata": {
        "id": "JzOv_pn1OJtF"
      },
      "outputs": [],
      "source": [
        "# 🧠 Face Disease Detection - AI Project\n",
        "# By Sohni Korrapolu\n",
        "\n",
        "# 📌 Objective:\n",
        "# Build a simple machine learning model to detect face diseases from image data.\n",
        "# Tools: Python, Pandas, NumPy, Matplotlib, OpenCV\n",
        "\n",
        "# Step 1: Import Libraries\n",
        "import pandas as pd\n",
        "import numpy as np\n",
        "import matplotlib.pyplot as plt\n",
        "import cv2\n"
      ]
    }
  ]
}